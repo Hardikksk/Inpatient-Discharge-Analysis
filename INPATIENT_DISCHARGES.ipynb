{
  "nbformat": 4,
  "nbformat_minor": 0,
  "metadata": {
    "colab": {
      "provenance": []
    },
    "kernelspec": {
      "name": "python3",
      "display_name": "Python 3"
    },
    "language_info": {
      "name": "python"
    }
  },
  "cells": [
    {
      "cell_type": "code",
      "execution_count": null,
      "metadata": {
        "collapsed": true,
        "id": "6vizfMqc0kuV"
      },
      "outputs": [],
      "source": [
        "import pandas as pd\n",
        "import numpy as np\n",
        "import matplotlib.pyplot as plt\n",
        "import seaborn as sns"
      ]
    },
    {
      "cell_type": "code",
      "source": [
        "df = pd.read_csv(\"/content/hospital inpatient discharge.csv\")"
      ],
      "metadata": {
        "colab": {
          "base_uri": "https://localhost:8080/"
        },
        "id": "EYuUBALb0-bd",
        "outputId": "cbb02e73-23d6-4075-f6ec-cf0aecbe5a67"
      },
      "execution_count": null,
      "outputs": [
        {
          "output_type": "stream",
          "name": "stderr",
          "text": [
            "/tmp/ipython-input-3653277437.py:1: DtypeWarning: Columns (29) have mixed types. Specify dtype option on import or set low_memory=False.\n",
            "  df = pd.read_csv(\"/content/hospital inpatient discharge.csv\")\n"
          ]
        }
      ]
    },
    {
      "cell_type": "code",
      "source": [
        "# Shape of data\n",
        "print(\"Rows, Columns:\", df.shape)\n",
        "\n",
        "# Column info\n",
        "print(df.info())\n",
        "\n",
        "# Missing values\n",
        "print(df.isnull().sum())\n"
      ],
      "metadata": {
        "colab": {
          "base_uri": "https://localhost:8080/"
        },
        "collapsed": true,
        "id": "dusx07BM_6am",
        "outputId": "70ca33ac-0b71-4a40-d18a-b2ea04c37cac"
      },
      "execution_count": null,
      "outputs": [
        {
          "output_type": "stream",
          "name": "stdout",
          "text": [
            "Rows, Columns: (45341, 33)\n",
            "<class 'pandas.core.frame.DataFrame'>\n",
            "RangeIndex: 45341 entries, 0 to 45340\n",
            "Data columns (total 33 columns):\n",
            " #   Column                               Non-Null Count  Dtype  \n",
            "---  ------                               --------------  -----  \n",
            " 0   Hospital Service Area                45229 non-null  object \n",
            " 1   Hospital County                      45229 non-null  object \n",
            " 2   Operating Certificate Number         45229 non-null  float64\n",
            " 3   Permanent Facility Id                45229 non-null  float64\n",
            " 4   Facility Name                        45341 non-null  object \n",
            " 5   Age Group                            45341 non-null  object \n",
            " 6   Zip Code - 3 digits                  44250 non-null  object \n",
            " 7   Gender                               45341 non-null  object \n",
            " 8   Race                                 45341 non-null  object \n",
            " 9   Ethnicity                            45341 non-null  object \n",
            " 10  Length of Stay                       45272 non-null  float64\n",
            " 11  Type of Admission                    45341 non-null  object \n",
            " 12  Patient Disposition                  45341 non-null  object \n",
            " 13  Discharge Year                       45341 non-null  int64  \n",
            " 14  CCSR Diagnosis Code                  45341 non-null  object \n",
            " 15  CCSR Diagnosis Description           45341 non-null  object \n",
            " 16  CCSR Procedure Code                  36504 non-null  object \n",
            " 17  CCSR Procedure Description           36504 non-null  object \n",
            " 18  APR DRG Code                         45341 non-null  int64  \n",
            " 19  APR DRG Description                  45341 non-null  object \n",
            " 20  APR MDC Code                         45341 non-null  int64  \n",
            " 21  APR MDC Description                  45341 non-null  object \n",
            " 22  APR Severity of Illness Code         45340 non-null  float64\n",
            " 23  APR Severity of Illness Description  45323 non-null  object \n",
            " 24  APR Risk of Mortality                45323 non-null  object \n",
            " 25  APR Medical Surgical Description     45340 non-null  object \n",
            " 26  Payment Typology 1                   45340 non-null  object \n",
            " 27  Payment Typology 2                   18026 non-null  object \n",
            " 28  Payment Typology 3                   5629 non-null   object \n",
            " 29  Birth Weight                         4382 non-null   object \n",
            " 30  Emergency Department Indicator       45340 non-null  object \n",
            " 31  Total Charges                        45340 non-null  float64\n",
            " 32  Total Costs                          45340 non-null  float64\n",
            "dtypes: float64(6), int64(3), object(24)\n",
            "memory usage: 11.4+ MB\n",
            "None\n",
            "Hospital Service Area                    112\n",
            "Hospital County                          112\n",
            "Operating Certificate Number             112\n",
            "Permanent Facility Id                    112\n",
            "Facility Name                              0\n",
            "Age Group                                  0\n",
            "Zip Code - 3 digits                     1091\n",
            "Gender                                     0\n",
            "Race                                       0\n",
            "Ethnicity                                  0\n",
            "Length of Stay                            69\n",
            "Type of Admission                          0\n",
            "Patient Disposition                        0\n",
            "Discharge Year                             0\n",
            "CCSR Diagnosis Code                        0\n",
            "CCSR Diagnosis Description                 0\n",
            "CCSR Procedure Code                     8837\n",
            "CCSR Procedure Description              8837\n",
            "APR DRG Code                               0\n",
            "APR DRG Description                        0\n",
            "APR MDC Code                               0\n",
            "APR MDC Description                        0\n",
            "APR Severity of Illness Code               1\n",
            "APR Severity of Illness Description       18\n",
            "APR Risk of Mortality                     18\n",
            "APR Medical Surgical Description           1\n",
            "Payment Typology 1                         1\n",
            "Payment Typology 2                     27315\n",
            "Payment Typology 3                     39712\n",
            "Birth Weight                           40959\n",
            "Emergency Department Indicator             1\n",
            "Total Charges                              1\n",
            "Total Costs                                1\n",
            "dtype: int64\n"
          ]
        }
      ]
    },
    {
      "cell_type": "code",
      "source": [
        "drop_cols = [\n",
        "    \"CCSR Procedure Code\",\n",
        "    \"CCSR Procedure Description\",\n",
        "    \"Payment Typology 2\",\n",
        "    \"Payment Typology 3\",\n",
        "    \"Birth Weight\"\n",
        "]\n",
        "df.drop(columns=drop_cols, inplace=True)\n"
      ],
      "metadata": {
        "id": "KsVovVQDBRwp"
      },
      "execution_count": null,
      "outputs": []
    },
    {
      "cell_type": "code",
      "source": [
        "# Fill numeric columns with median\n",
        "df[\"Length of Stay\"].fillna(df[\"Length of Stay\"].median(), inplace=True)\n",
        "\n",
        "# Fill Zip Code (you can also drop if not important)\n",
        "df[\"Zip Code - 3 digits\"].fillna(df[\"Zip Code - 3 digits\"].mode()[0], inplace=True)\n",
        "\n",
        "# Fill categorical columns with mode\n",
        "df[\"APR Severity of Illness Code\"].fillna(df[\"APR Severity of Illness Code\"].mode()[0], inplace=True)\n",
        "df[\"APR Severity of Illness Description\"].fillna(df[\"APR Severity of Illness Description\"].mode()[0], inplace=True)\n",
        "df[\"APR Risk of Mortality\"].fillna(df[\"APR Risk of Mortality\"].mode()[0], inplace=True)\n"
      ],
      "metadata": {
        "colab": {
          "base_uri": "https://localhost:8080/"
        },
        "collapsed": true,
        "id": "TMfiSWQdBe3t",
        "outputId": "9212db51-e68a-4aeb-963f-d795c22778ea"
      },
      "execution_count": null,
      "outputs": [
        {
          "output_type": "stream",
          "name": "stderr",
          "text": [
            "/tmp/ipython-input-1397174575.py:2: FutureWarning: A value is trying to be set on a copy of a DataFrame or Series through chained assignment using an inplace method.\n",
            "The behavior will change in pandas 3.0. This inplace method will never work because the intermediate object on which we are setting values always behaves as a copy.\n",
            "\n",
            "For example, when doing 'df[col].method(value, inplace=True)', try using 'df.method({col: value}, inplace=True)' or df[col] = df[col].method(value) instead, to perform the operation inplace on the original object.\n",
            "\n",
            "\n",
            "  df[\"Length of Stay\"].fillna(df[\"Length of Stay\"].median(), inplace=True)\n",
            "/tmp/ipython-input-1397174575.py:5: FutureWarning: A value is trying to be set on a copy of a DataFrame or Series through chained assignment using an inplace method.\n",
            "The behavior will change in pandas 3.0. This inplace method will never work because the intermediate object on which we are setting values always behaves as a copy.\n",
            "\n",
            "For example, when doing 'df[col].method(value, inplace=True)', try using 'df.method({col: value}, inplace=True)' or df[col] = df[col].method(value) instead, to perform the operation inplace on the original object.\n",
            "\n",
            "\n",
            "  df[\"Zip Code - 3 digits\"].fillna(df[\"Zip Code - 3 digits\"].mode()[0], inplace=True)\n",
            "/tmp/ipython-input-1397174575.py:8: FutureWarning: A value is trying to be set on a copy of a DataFrame or Series through chained assignment using an inplace method.\n",
            "The behavior will change in pandas 3.0. This inplace method will never work because the intermediate object on which we are setting values always behaves as a copy.\n",
            "\n",
            "For example, when doing 'df[col].method(value, inplace=True)', try using 'df.method({col: value}, inplace=True)' or df[col] = df[col].method(value) instead, to perform the operation inplace on the original object.\n",
            "\n",
            "\n",
            "  df[\"APR Severity of Illness Code\"].fillna(df[\"APR Severity of Illness Code\"].mode()[0], inplace=True)\n",
            "/tmp/ipython-input-1397174575.py:9: FutureWarning: A value is trying to be set on a copy of a DataFrame or Series through chained assignment using an inplace method.\n",
            "The behavior will change in pandas 3.0. This inplace method will never work because the intermediate object on which we are setting values always behaves as a copy.\n",
            "\n",
            "For example, when doing 'df[col].method(value, inplace=True)', try using 'df.method({col: value}, inplace=True)' or df[col] = df[col].method(value) instead, to perform the operation inplace on the original object.\n",
            "\n",
            "\n",
            "  df[\"APR Severity of Illness Description\"].fillna(df[\"APR Severity of Illness Description\"].mode()[0], inplace=True)\n",
            "/tmp/ipython-input-1397174575.py:10: FutureWarning: A value is trying to be set on a copy of a DataFrame or Series through chained assignment using an inplace method.\n",
            "The behavior will change in pandas 3.0. This inplace method will never work because the intermediate object on which we are setting values always behaves as a copy.\n",
            "\n",
            "For example, when doing 'df[col].method(value, inplace=True)', try using 'df.method({col: value}, inplace=True)' or df[col] = df[col].method(value) instead, to perform the operation inplace on the original object.\n",
            "\n",
            "\n",
            "  df[\"APR Risk of Mortality\"].fillna(df[\"APR Risk of Mortality\"].mode()[0], inplace=True)\n"
          ]
        }
      ]
    },
    {
      "cell_type": "markdown",
      "source": [
        "Predicting “Type of Admission” (Emergency, Elective, Urgent, etc.) based on patient + medical details.\n",
        "\n",
        "Input Features: Age Group, Gender, Race, Ethnicity, Length of Stay, Diagnosis, Severity, Costs, etc.\n",
        "\n",
        "Target Variable: Type of Admission"
      ],
      "metadata": {
        "id": "pc3YGATgEuvd"
      }
    },
    {
      "cell_type": "code",
      "source": [
        "from sklearn.preprocessing import LabelEncoder\n",
        "\n",
        "# Make a copy of dataframe\n",
        "ml_df = df.copy()\n",
        "\n",
        "# Encode categorical columns\n",
        "categorical_cols = ml_df.select_dtypes(include=[\"object\"]).columns\n",
        "\n",
        "label_encoders = {}\n",
        "for col in categorical_cols:\n",
        "    le = LabelEncoder()\n",
        "    ml_df[col] = le.fit_transform(ml_df[col].astype(str))\n",
        "    label_encoders[col] = le\n"
      ],
      "metadata": {
        "id": "8A4FnEtzEY6i"
      },
      "execution_count": null,
      "outputs": []
    },
    {
      "cell_type": "code",
      "source": [
        "from sklearn.model_selection import train_test_split\n",
        "\n",
        "X = ml_df.drop(\"Type of Admission\", axis=1)   # Features\n",
        "y = ml_df[\"Type of Admission\"]                # Target\n",
        "\n",
        "X_train, X_test, y_train, y_test = train_test_split(X, y,\n",
        "                                                    test_size=0.2,\n",
        "                                                    random_state=42)\n"
      ],
      "metadata": {
        "id": "esjVU4IqEz9i"
      },
      "execution_count": null,
      "outputs": []
    },
    {
      "cell_type": "code",
      "source": [
        "from sklearn.ensemble import RandomForestClassifier\n",
        "from sklearn.metrics import accuracy_score, classification_report\n",
        "\n",
        "# Train model\n",
        "model = RandomForestClassifier(n_estimators=100, random_state=42)\n",
        "model.fit(X_train, y_train)\n",
        "\n",
        "# Predictions\n",
        "y_pred = model.predict(X_test)\n",
        "\n",
        "# Evaluate\n",
        "print(\"Accuracy:\", accuracy_score(y_test, y_pred))\n",
        "print(\"\\nClassification Report:\\n\", classification_report(y_test, y_pred))\n"
      ],
      "metadata": {
        "colab": {
          "base_uri": "https://localhost:8080/"
        },
        "id": "TfWpjyXpE3m8",
        "outputId": "19ad53e9-7e46-4f90-decb-86937d297de3"
      },
      "execution_count": null,
      "outputs": [
        {
          "output_type": "stream",
          "name": "stdout",
          "text": [
            "Accuracy: 0.9418899547910464\n",
            "\n",
            "Classification Report:\n",
            "               precision    recall  f1-score   support\n",
            "\n",
            "           0       0.87      0.86      0.86      1396\n",
            "           1       0.97      0.98      0.97      6337\n",
            "           2       1.00      1.00      1.00       824\n",
            "           3       0.00      0.00      0.00         3\n",
            "           4       0.00      0.00      0.00         9\n",
            "           5       0.70      0.63      0.66       500\n",
            "\n",
            "    accuracy                           0.94      9069\n",
            "   macro avg       0.59      0.58      0.58      9069\n",
            "weighted avg       0.94      0.94      0.94      9069\n",
            "\n"
          ]
        },
        {
          "output_type": "stream",
          "name": "stderr",
          "text": [
            "/usr/local/lib/python3.11/dist-packages/sklearn/metrics/_classification.py:1565: UndefinedMetricWarning: Precision is ill-defined and being set to 0.0 in labels with no predicted samples. Use `zero_division` parameter to control this behavior.\n",
            "  _warn_prf(average, modifier, f\"{metric.capitalize()} is\", len(result))\n",
            "/usr/local/lib/python3.11/dist-packages/sklearn/metrics/_classification.py:1565: UndefinedMetricWarning: Precision is ill-defined and being set to 0.0 in labels with no predicted samples. Use `zero_division` parameter to control this behavior.\n",
            "  _warn_prf(average, modifier, f\"{metric.capitalize()} is\", len(result))\n",
            "/usr/local/lib/python3.11/dist-packages/sklearn/metrics/_classification.py:1565: UndefinedMetricWarning: Precision is ill-defined and being set to 0.0 in labels with no predicted samples. Use `zero_division` parameter to control this behavior.\n",
            "  _warn_prf(average, modifier, f\"{metric.capitalize()} is\", len(result))\n"
          ]
        }
      ]
    },
    {
      "cell_type": "code",
      "source": [
        "feature_importance = pd.DataFrame({\n",
        "    \"Feature\": X.columns,\n",
        "    \"Importance\": model.feature_importances_\n",
        "}).sort_values(by=\"Importance\", ascending=False)\n",
        "\n",
        "print(feature_importance.head(10))\n"
      ],
      "metadata": {
        "colab": {
          "base_uri": "https://localhost:8080/"
        },
        "id": "qSjbUa0cE6Iw",
        "outputId": "46bb03ed-3917-47ee-ef30-26a4bf01ba41"
      },
      "execution_count": null,
      "outputs": [
        {
          "output_type": "stream",
          "name": "stdout",
          "text": [
            "                             Feature  Importance\n",
            "24    Emergency Department Indicator    0.284849\n",
            "15                      APR DRG Code    0.061191\n",
            "5                          Age Group    0.061123\n",
            "18               APR MDC Description    0.059583\n",
            "17                      APR MDC Code    0.056302\n",
            "13               CCSR Diagnosis Code    0.056185\n",
            "26                       Total Costs    0.053773\n",
            "22  APR Medical Surgical Description    0.048253\n",
            "25                     Total Charges    0.034882\n",
            "3              Permanent Facility Id    0.034338\n"
          ]
        }
      ]
    },
    {
      "cell_type": "code",
      "source": [
        "from sklearn.tree import DecisionTreeClassifier\n",
        "from sklearn.metrics import accuracy_score, classification_report\n",
        "\n",
        "# Train Decision Tree\n",
        "dt_model = DecisionTreeClassifier(max_depth=5, random_state=42)  # you can tune max_depth\n",
        "dt_model.fit(X_train, y_train)\n",
        "\n",
        "# Predictions\n",
        "y_pred_dt = dt_model.predict(X_test)\n",
        "\n",
        "# Evaluate\n",
        "print(\"Decision Tree Accuracy:\", accuracy_score(y_test, y_pred_dt))\n",
        "print(\"\\nDecision Tree Report:\\n\", classification_report(y_test, y_pred_dt))\n"
      ],
      "metadata": {
        "colab": {
          "base_uri": "https://localhost:8080/"
        },
        "id": "8Sw23yUCFmzJ",
        "outputId": "1d5b8d54-e184-4c3e-9dab-310d27349032"
      },
      "execution_count": null,
      "outputs": [
        {
          "output_type": "stream",
          "name": "stdout",
          "text": [
            "Decision Tree Accuracy: 0.8919395743742419\n",
            "\n",
            "Decision Tree Report:\n",
            "               precision    recall  f1-score   support\n",
            "\n",
            "           0       0.63      0.92      0.75      1396\n",
            "           1       0.97      0.94      0.95      6337\n",
            "           2       1.00      1.00      1.00       824\n",
            "           3       0.00      0.00      0.00         3\n",
            "           4       0.00      0.00      0.00         9\n",
            "           5       0.50      0.01      0.03       500\n",
            "\n",
            "    accuracy                           0.89      9069\n",
            "   macro avg       0.52      0.48      0.45      9069\n",
            "weighted avg       0.89      0.89      0.87      9069\n",
            "\n"
          ]
        },
        {
          "output_type": "stream",
          "name": "stderr",
          "text": [
            "/usr/local/lib/python3.11/dist-packages/sklearn/metrics/_classification.py:1565: UndefinedMetricWarning: Precision is ill-defined and being set to 0.0 in labels with no predicted samples. Use `zero_division` parameter to control this behavior.\n",
            "  _warn_prf(average, modifier, f\"{metric.capitalize()} is\", len(result))\n",
            "/usr/local/lib/python3.11/dist-packages/sklearn/metrics/_classification.py:1565: UndefinedMetricWarning: Precision is ill-defined and being set to 0.0 in labels with no predicted samples. Use `zero_division` parameter to control this behavior.\n",
            "  _warn_prf(average, modifier, f\"{metric.capitalize()} is\", len(result))\n",
            "/usr/local/lib/python3.11/dist-packages/sklearn/metrics/_classification.py:1565: UndefinedMetricWarning: Precision is ill-defined and being set to 0.0 in labels with no predicted samples. Use `zero_division` parameter to control this behavior.\n",
            "  _warn_prf(average, modifier, f\"{metric.capitalize()} is\", len(result))\n"
          ]
        }
      ]
    }
  ]
}